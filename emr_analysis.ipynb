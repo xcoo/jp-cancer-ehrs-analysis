{
 "cells": [
  {
   "cell_type": "markdown",
   "id": "1c0b9930-d427-48d3-8dad-f7b8a5d03a45",
   "metadata": {},
   "source": [
    "# emr_analysis\n",
    "\n",
    "Code for predicting treatment periods and effect using a rule-based and double-LSTM algorithm."
   ]
  },
  {
   "cell_type": "code",
   "execution_count": 1,
   "id": "485aee1f-7935-4921-a2e7-251303168d1c",
   "metadata": {},
   "outputs": [],
   "source": [
    "import datetime\n",
    "import sys\n",
    "\n",
    "import dateutil\n",
    "import pandas as pd\n",
    "from tabulate import tabulate\n",
    "\n",
    "from emr_analysis.config import load_config\n",
    "from emr_analysis.data import Data, Effect\n",
    "from emr_analysis.effect.detector import EffectDetector\n",
    "from emr_analysis.evaluator import Evaluator, OutOfEvaluationError\n",
    "from emr_analysis.treatment_period import TreatmentPeriod"
   ]
  },
  {
   "cell_type": "markdown",
   "id": "0568d802-7ad0-462b-af36-eb6f825990f5",
   "metadata": {},
   "source": [
    "Load EHRs data, structured data, and word embedding model."
   ]
  },
  {
   "cell_type": "code",
   "execution_count": 2,
   "id": "469444e8-d37f-4266-877e-151151bb59fd",
   "metadata": {},
   "outputs": [
    {
     "name": "stdout",
     "output_type": "stream",
     "text": [
      "Loading EMR data...\n",
      "Loaded EMR data\n",
      "Loading structured data...\n",
      "Loaded structured data\n",
      "Loading word embedding model...\n",
      "Loaded word embedding model\n"
     ]
    }
   ],
   "source": [
    "config = load_config(\"resources/config.yml\")\n",
    "\n",
    "data = Data(data_dir=\"resources/data/\", preprocess=True)\n",
    "data.load_data()"
   ]
  },
  {
   "cell_type": "markdown",
   "id": "ba85b1fe-2f90-4398-b992-d8cc6706307b",
   "metadata": {},
   "source": [
    "## Treatment periods\n",
    "\n",
    "Rule-based prediction of treatment periods"
   ]
  },
  {
   "cell_type": "code",
   "execution_count": 3,
   "id": "19a93c6d-a4a2-4367-9e81-99104bf3f9c3",
   "metadata": {},
   "outputs": [
    {
     "data": {
      "text/html": [
       "<table>\n",
       "<thead>\n",
       "<tr><th>Patient ID  </th><th>Start date (pred)  </th><th>End date (pred)  </th><th>Medication (pred)  </th><th>Start date (ans)  </th><th>End date (ans)  </th><th>Medication (ans)  </th></tr>\n",
       "</thead>\n",
       "<tbody>\n",
       "<tr><td>00001       </td><td>2015-12-04         </td><td>2016-01-05       </td><td>Carboplatin        </td><td>2015-11-24        </td><td>2016-01-06      </td><td>CBDCA             </td></tr>\n",
       "<tr><td>            </td><td>2016-08-19         </td><td>2018-04-29       </td><td>Erlotinib          </td><td>2016-08-22        </td><td>2018-05-03      </td><td>Erlotinib         </td></tr>\n",
       "<tr><td>00002       </td><td>2011-01-12         </td><td>2011-04-12       </td><td>CDDP+VNR           </td><td>2011-01-12        </td><td>2011-04-19      </td><td>CDDP+VNR          </td></tr>\n",
       "<tr><td>            </td><td>2012-06-14         </td><td>2014-08-15       </td><td>Gefitinib          </td><td>2012-06-15        </td><td>2014-08-14      </td><td>Gefitinib         </td></tr>\n",
       "<tr><td>            </td><td>2014-08-14         </td><td>2014-11-06       </td><td>PEM                </td><td>2014-08-14        </td><td>2014-12-06      </td><td>PEM               </td></tr>\n",
       "</tbody>\n",
       "</table>"
      ],
      "text/plain": [
       "'<table>\\n<thead>\\n<tr><th>Patient ID  </th><th>Start date (pred)  </th><th>End date (pred)  </th><th>Medication (pred)  </th><th>Start date (ans)  </th><th>End date (ans)  </th><th>Medication (ans)  </th></tr>\\n</thead>\\n<tbody>\\n<tr><td>00001       </td><td>2015-12-04         </td><td>2016-01-05       </td><td>Carboplatin        </td><td>2015-11-24        </td><td>2016-01-06      </td><td>CBDCA             </td></tr>\\n<tr><td>            </td><td>2016-08-19         </td><td>2018-04-29       </td><td>Erlotinib          </td><td>2016-08-22        </td><td>2018-05-03      </td><td>Erlotinib         </td></tr>\\n<tr><td>00002       </td><td>2011-01-12         </td><td>2011-04-12       </td><td>CDDP+VNR           </td><td>2011-01-12        </td><td>2011-04-19      </td><td>CDDP+VNR          </td></tr>\\n<tr><td>            </td><td>2012-06-14         </td><td>2014-08-15       </td><td>Gefitinib          </td><td>2012-06-15        </td><td>2014-08-14      </td><td>Gefitinib         </td></tr>\\n<tr><td>            </td><td>2014-08-14         </td><td>2014-11-06       </td><td>PEM                </td><td>2014-08-14        </td><td>2014-12-06      </td><td>PEM               </td></tr>\\n</tbody>\\n</table>'"
      ]
     },
     "execution_count": 3,
     "metadata": {},
     "output_type": "execute_result"
    }
   ],
   "source": [
    "treatment_period = TreatmentPeriod(data, config)\n",
    "evaluator = Evaluator(data, config)\n",
    "\n",
    "def treatment_period_results():\n",
    "    for patient_id in data.patient_ids:\n",
    "        periods = treatment_period.treatment_periods(patient_id)\n",
    "\n",
    "        for date, last_date, medication_name \\\n",
    "                in zip(periods[\"DateTime\"], periods[\"LastDateTime\"], periods[\"MedicationName\"]):\n",
    "            try:\n",
    "                cperiod_df = \\\n",
    "                    evaluator.corresponding_record_by_period(patient_id, date, last_date,\n",
    "                                                             medication=medication_name)\n",
    "\n",
    "                if not cperiod_df.empty:\n",
    "                    ans = cperiod_df.iloc[0]\n",
    "                    yield (patient_id, date.date(), last_date.date(), medication_name,\n",
    "                           ans[\"治療開始日\"].date(), ans[\"治療終了日\"].date(), ans[\"治療詳細\"])\n",
    "                else:\n",
    "                    yield (patient_id, date.date(), last_date.date(), medication_name, None, None, None)\n",
    "            except OutOfEvaluationError:\n",
    "                yield (patient_id, date.date(), last_date.date(), medication_name, None, None, None)\n",
    "\n",
    "def format_date(s, fmt=\"%Y-%m-%d\"):\n",
    "    try:\n",
    "        if pd.isnull(s):\n",
    "            return \"\"\n",
    "        elif isinstance(s, str):\n",
    "            return dateutil.parser.parse(s).strftime(fmt)\n",
    "        elif isinstance(s, datetime.datetime):\n",
    "            return s.strftime(fmt)\n",
    "        elif isinstance(s, datetime.date):\n",
    "            return s.strftime(fmt)\n",
    "        else:\n",
    "            return s\n",
    "    except dateutil.parser.ParserError:\n",
    "        return s\n",
    "\n",
    "table = []\n",
    "patient_id = None\n",
    "for result in treatment_period_results():\n",
    "    tr = list(result)\n",
    "    tr[1] = format_date(tr[1])\n",
    "    tr[2] = format_date(tr[2])\n",
    "    tr[4] = format_date(tr[4])\n",
    "    tr[5] = format_date(tr[5])\n",
    "    if tr[0] == patient_id:\n",
    "        tr[0] = \"\"\n",
    "    else:\n",
    "        patient_id = tr[0]\n",
    "    table.append(tr)\n",
    "\n",
    "tabulate(table,\n",
    "         headers=[\"Patient ID\", \"Start date (pred)\", \"End date (pred)\",\n",
    "                  \"Medication (pred)\", \"Start date (ans)\", \"End date (ans)\",\n",
    "                  \"Medication (ans)\"],\n",
    "         tablefmt=\"html\")"
   ]
  },
  {
   "cell_type": "markdown",
   "id": "a6fe9804-aa97-493e-a9e0-b4078b1e79c0",
   "metadata": {
    "tags": []
   },
   "source": [
    "## Tumor response evaluation\n",
    "\n",
    "Prediction of tumor response evaluation and PD date using machine learning"
   ]
  },
  {
   "cell_type": "code",
   "execution_count": 4,
   "id": "a4ce0961-f6dd-40c9-8100-b996e54575ba",
   "metadata": {
    "tags": []
   },
   "outputs": [
    {
     "name": "stderr",
     "output_type": "stream",
     "text": [
      "2024-07-31 09:25:15 INFO: Checking for updates to resources.json in case models have been updated.  Note: this behavior can be turned off with download_method=None or download_method=DownloadMethod.REUSE_RESOURCES\n"
     ]
    },
    {
     "data": {
      "application/vnd.jupyter.widget-view+json": {
       "model_id": "5118b4f379d14a62af5efed4c6014814",
       "version_major": 2,
       "version_minor": 0
      },
      "text/plain": [
       "Downloading https://raw.githubusercontent.com/stanfordnlp/stanza-resources/main/resources_1.4.1.json:   0%|   …"
      ]
     },
     "metadata": {},
     "output_type": "display_data"
    },
    {
     "data": {
      "application/vnd.jupyter.widget-view+json": {
       "model_id": "2caae8bc5e7346c9b8a9bd1153fdaf07",
       "version_major": 2,
       "version_minor": 0
      },
      "text/plain": [
       "Downloading https://huggingface.co/stanfordnlp/stanza-ja/resolve/v1.4.1/models/tokenize/gsd.pt:   0%|         …"
      ]
     },
     "metadata": {},
     "output_type": "display_data"
    },
    {
     "name": "stderr",
     "output_type": "stream",
     "text": [
      "2024-07-31 09:25:16 INFO: Loading these models for language: ja (Japanese):\n",
      "=======================\n",
      "| Processor | Package |\n",
      "-----------------------\n",
      "| tokenize  | gsd     |\n",
      "=======================\n",
      "\n",
      "2024-07-31 09:25:16 INFO: Use device: cpu\n",
      "2024-07-31 09:25:16 INFO: Loading: tokenize\n",
      "/usr/local/lib/python3.9/site-packages/stanza/models/tokenization/trainer.py:88: FutureWarning: You are using `torch.load` with `weights_only=False` (the current default value), which uses the default pickle module implicitly. It is possible to construct malicious pickle data which will execute arbitrary code during unpickling (See https://github.com/pytorch/pytorch/blob/main/SECURITY.md#untrusted-models for more details). In a future release, the default value for `weights_only` will be flipped to `True`. This limits the functions that could be executed during unpickling. Arbitrary objects will no longer be allowed to be loaded via this mode unless they are explicitly allowlisted by the user via `torch.serialization.add_safe_globals`. We recommend you start setting `weights_only=True` for any use case where you don't have full control of the loaded file. Please open an issue on GitHub for any issues related to this experimental feature.\n",
      "  checkpoint = torch.load(filename, lambda storage, loc: storage)\n",
      "2024-07-31 09:25:17 INFO: Done loading processors!\n"
     ]
    },
    {
     "data": {
      "text/html": [
       "<table>\n",
       "<thead>\n",
       "<tr><th>Patient ID  </th><th>Start date  </th><th>End date  </th><th>Medication  </th><th>Effect (pred)  </th><th>Effect (ans)  </th><th>PD date (pred)  </th><th>PD date (ans)  </th><th style=\"text-align: right;\">  #reports</th></tr>\n",
       "</thead>\n",
       "<tbody>\n",
       "<tr><td>00001       </td><td>2015-12-04  </td><td>2016-01-05</td><td>CBDCA       </td><td>PR             </td><td>PR            </td><td>                </td><td>2016-01-11     </td><td style=\"text-align: right;\">         1</td></tr>\n",
       "<tr><td>            </td><td>2016-08-19  </td><td>2018-04-29</td><td>Erlotinib   </td><td>PR             </td><td>PR            </td><td>2018-08-25      </td><td>2018-08-25     </td><td style=\"text-align: right;\">         7</td></tr>\n",
       "<tr><td>00002       </td><td>2011-01-12  </td><td>2011-04-12</td><td>CDDP+VNR    </td><td>NE             </td><td>NE            </td><td>2012-05-17      </td><td>2012-06-07     </td><td style=\"text-align: right;\">         4</td></tr>\n",
       "<tr><td>            </td><td>2012-06-14  </td><td>2014-08-15</td><td>Gefitinib   </td><td>NE             </td><td>NE            </td><td>2014-03-13      </td><td>2014-03-13     </td><td style=\"text-align: right;\">         5</td></tr>\n",
       "<tr><td>            </td><td>2014-08-14  </td><td>2014-11-06</td><td>PEM         </td><td>PR             </td><td>SD            </td><td>                </td><td>               </td><td style=\"text-align: right;\">         1</td></tr>\n",
       "</tbody>\n",
       "</table>"
      ],
      "text/plain": [
       "'<table>\\n<thead>\\n<tr><th>Patient ID  </th><th>Start date  </th><th>End date  </th><th>Medication  </th><th>Effect (pred)  </th><th>Effect (ans)  </th><th>PD date (pred)  </th><th>PD date (ans)  </th><th style=\"text-align: right;\">  #reports</th></tr>\\n</thead>\\n<tbody>\\n<tr><td>00001       </td><td>2015-12-04  </td><td>2016-01-05</td><td>CBDCA       </td><td>PR             </td><td>PR            </td><td>                </td><td>2016-01-11     </td><td style=\"text-align: right;\">         1</td></tr>\\n<tr><td>            </td><td>2016-08-19  </td><td>2018-04-29</td><td>Erlotinib   </td><td>PR             </td><td>PR            </td><td>2018-08-25      </td><td>2018-08-25     </td><td style=\"text-align: right;\">         7</td></tr>\\n<tr><td>00002       </td><td>2011-01-12  </td><td>2011-04-12</td><td>CDDP+VNR    </td><td>NE             </td><td>NE            </td><td>2012-05-17      </td><td>2012-06-07     </td><td style=\"text-align: right;\">         4</td></tr>\\n<tr><td>            </td><td>2012-06-14  </td><td>2014-08-15</td><td>Gefitinib   </td><td>NE             </td><td>NE            </td><td>2014-03-13      </td><td>2014-03-13     </td><td style=\"text-align: right;\">         5</td></tr>\\n<tr><td>            </td><td>2014-08-14  </td><td>2014-11-06</td><td>PEM         </td><td>PR             </td><td>SD            </td><td>                </td><td>               </td><td style=\"text-align: right;\">         1</td></tr>\\n</tbody>\\n</table>'"
      ]
     },
     "execution_count": 4,
     "metadata": {},
     "output_type": "execute_result"
    }
   ],
   "source": [
    "effect_detector_model = \"resources/model/model.pt\"\n",
    "effect_detector = EffectDetector(data, config, effect_detector_model)\n",
    "\n",
    "def effect_results():\n",
    "    for patient_id in data.patient_ids:\n",
    "        periods = treatment_period.treatment_periods(patient_id)\n",
    "        for i in range(len(periods)):\n",
    "            start_dt = periods.iloc[i][\"DateTime\"]\n",
    "            end_dt = periods.iloc[i][\"LastDateTime\"]\n",
    "            if i < len(periods) - 1:\n",
    "                next_start_dt = periods.iloc[i + 1][\"DateTime\"]\n",
    "            else:\n",
    "                next_start_dt = end_dt + datetime.timedelta(days=365) # for demo\n",
    "            delta = datetime.timedelta(days=1)\n",
    "\n",
    "            estimated_effect, estimated_pd_date, nreports = \\\n",
    "                effect_detector.detect_effect(patient_id, start_dt, next_start_dt + delta)\n",
    "            \n",
    "            cperiod_df = \\\n",
    "                evaluator.corresponding_record_by_period(patient_id, start_dt, end_dt,\n",
    "                                                         medication=periods.iloc[i][\"MedicationName\"])\n",
    "\n",
    "            if estimated_effect is None:\n",
    "                continue\n",
    "\n",
    "            if estimated_pd_date:\n",
    "                estimated_pd_date = estimated_pd_date.date()\n",
    "\n",
    "            if not cperiod_df.empty:\n",
    "                ans = cperiod_df.iloc[0]        \n",
    "                yield (patient_id, start_dt.date(), end_dt.date(), ans[\"治療詳細\"],\n",
    "                       estimated_effect, ans[\"効果\"],\n",
    "                       estimated_pd_date, ans[\"PD確定日\"],\n",
    "                       nreports)\n",
    "\n",
    "table = []\n",
    "patient_id = None\n",
    "interval = None\n",
    "for result in effect_results():\n",
    "    tr = list(result)\n",
    "    tr[1] = format_date(tr[1])\n",
    "    tr[2] = format_date(tr[2])\n",
    "    if not pd.isnull(tr[4]):\n",
    "        tr[4] = tr[4].name\n",
    "    tr[5] = tr[5].name\n",
    "    tr[6] = format_date(tr[6])\n",
    "    tr[7] = format_date(tr[7])\n",
    "\n",
    "    if tr[0] == patient_id:\n",
    "        tr[0] = \"\"\n",
    "        if [tr[1], tr[2]] == interval:\n",
    "            tr[1] = tr[2] = \"\"\n",
    "        else:\n",
    "            interval = [tr[1], tr[2]]\n",
    "    else:\n",
    "        patient_id = tr[0]\n",
    "        interval = [tr[1], tr[2]]\n",
    "    table.append(tr)\n",
    "\n",
    "tabulate(table,\n",
    "         headers=[\"Patient ID\", \"Start date\", \"End date\", \"Medication\",\n",
    "                  \"Effect (pred)\", \"Effect (ans)\", \"PD date (pred)\", \"PD date (ans)\", \"#reports\"],\n",
    "         tablefmt=\"html\")"
   ]
  }
 ],
 "metadata": {
  "kernelspec": {
   "display_name": "Python 3 (ipykernel)",
   "language": "python",
   "name": "python3"
  },
  "language_info": {
   "codemirror_mode": {
    "name": "ipython",
    "version": 3
   },
   "file_extension": ".py",
   "mimetype": "text/x-python",
   "name": "python",
   "nbconvert_exporter": "python",
   "pygments_lexer": "ipython3",
   "version": "3.9.13"
  }
 },
 "nbformat": 4,
 "nbformat_minor": 5
}
